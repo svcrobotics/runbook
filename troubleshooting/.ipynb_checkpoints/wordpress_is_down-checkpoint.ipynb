{
 "cells": [
  {
   "cell_type": "markdown",
   "metadata": {},
   "source": [
    "## runbook/troubleshooting/wordpress_is_down.md\n",
    "\n",
    "Si la sonde **PING WordPress Server** affiche:\n",
    "\n",
    "```\n",
    "CRITICAL - Plugin timed out\n",
    "```\n",
    "\n",
    "Alors allez sur le serveur **svcrobotics.com**\n",
    "\n",
    "- login: root\n",
    "- passwd: Victor@1972\n",
    "\n",
    "et faire un **ifconfig** pour récuperer l'adresse ip du serveur, puis entrez l'adresse ip dans le fichiers **/etc/hosts** du serveur Nagios."
   ]
  },
  {
   "cell_type": "markdown",
   "metadata": {},
   "source": [
    "```\n",
    "root@svcrobotics:~# ifconfig\n",
    "eth0: flags=4163<UP,BROADCAST,RUNNING,MULTICAST>  mtu 1500\n",
    "        inet 172.16.140.209  netmask 255.255.255.0  broadcast 172.16.140.255\n",
    "        inet6 fe80::20c:29ff:fe84:9421  prefixlen 64  scopeid 0x20<link>\n",
    "        ether 00:0c:29:84:94:21  txqueuelen 1000  (Ethernet)\n",
    "        RX packets 30800  bytes 41975199 (40.0 MiB)\n",
    "        RX errors 0  dropped 0  overruns 0  frame 0\n",
    "        TX packets 16782  bytes 1023346 (999.3 KiB)\n",
    "        TX errors 0  dropped 0 overruns 0  carrier 0  collisions 0\n",
    "\n",
    "lo: flags=73<UP,LOOPBACK,RUNNING>  mtu 65536\n",
    "        inet 127.0.0.1  netmask 255.0.0.0\n",
    "        inet6 ::1  prefixlen 128  scopeid 0x10<host>\n",
    "        loop  txqueuelen 1000  (Boucle locale)\n",
    "        RX packets 20  bytes 1116 (1.0 KiB)\n",
    "        RX errors 0  dropped 0  overruns 0  frame 0\n",
    "        TX packets 20  bytes 1116 (1.0 KiB)\n",
    "        TX errors 0  dropped 0 overruns 0  carrier 0  collisions 0\n",
    "```"
   ]
  },
  {
   "cell_type": "code",
   "execution_count": 5,
   "metadata": {},
   "outputs": [
    {
     "name": "stdout",
     "output_type": "stream",
     "text": [
      "127.0.0.1\tlocalhost\n",
      "127.0.1.1\tkali\n",
      "172.16.90.209 svcrobotics.com\n",
      "\n",
      "# The following lines are desirable for IPv6 capable hosts\n",
      "::1     localhost ip6-localhost ip6-loopback\n",
      "ff02::1 ip6-allnodes\n",
      "ff02::2 ip6-allrouters\n"
     ]
    }
   ],
   "source": [
    "%%bash\n",
    "\n",
    "cat /etc/hosts"
   ]
  },
  {
   "cell_type": "markdown",
   "metadata": {},
   "source": [
    "Après modification:"
   ]
  },
  {
   "cell_type": "code",
   "execution_count": 6,
   "metadata": {},
   "outputs": [
    {
     "name": "stdout",
     "output_type": "stream",
     "text": [
      "127.0.0.1\tlocalhost\n",
      "127.0.1.1\tkali\n",
      "172.16.140.209 svcrobotics.com\n",
      "\n",
      "# The following lines are desirable for IPv6 capable hosts\n",
      "::1     localhost ip6-localhost ip6-loopback\n",
      "ff02::1 ip6-allnodes\n",
      "ff02::2 ip6-allrouters\n"
     ]
    }
   ],
   "source": [
    "%%bash\n",
    "\n",
    "cat /etc/hosts"
   ]
  },
  {
   "cell_type": "markdown",
   "metadata": {},
   "source": [
    "Redémarrer le serveur Nagios"
   ]
  },
  {
   "cell_type": "code",
   "execution_count": null,
   "metadata": {},
   "outputs": [],
   "source": [
    "%%bash\n",
    "\n",
    "systemctl restart nagios.service"
   ]
  },
  {
   "cell_type": "markdown",
   "metadata": {},
   "source": [
    "Problème résolu si Nagios affiche\n",
    "\n",
    "```\n",
    "PING OK - Paquets perdus = 0%, RTA = 1.54 ms\n",
    "```"
   ]
  }
 ],
 "metadata": {
  "celltoolbar": "Raw Cell Format",
  "kernelspec": {
   "display_name": "Python 3",
   "language": "python",
   "name": "python3"
  },
  "language_info": {
   "codemirror_mode": {
    "name": "ipython",
    "version": 3
   },
   "file_extension": ".py",
   "mimetype": "text/x-python",
   "name": "python",
   "nbconvert_exporter": "python",
   "pygments_lexer": "ipython3",
   "version": "3.7.3"
  }
 },
 "nbformat": 4,
 "nbformat_minor": 2
}
