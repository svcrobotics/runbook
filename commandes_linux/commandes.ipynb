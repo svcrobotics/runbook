{
 "cells": [
  {
   "cell_type": "markdown",
   "metadata": {},
   "source": [
    "# Commandes Linux\n",
    "\n"
   ]
  },
  {
   "cell_type": "code",
   "execution_count": 2,
   "metadata": {},
   "outputs": [
    {
     "name": "stdout",
     "output_type": "stream",
     "text": [
      "Sys. de fichiers Taille Utilisé Dispo Uti% Monté sur\r\n",
      "udev               1,9G       0  1,9G   0% /dev\r\n",
      "tmpfs              393M     13M  381M   4% /run\r\n",
      "/dev/sda1           71G     16G   52G  24% /\r\n",
      "tmpfs              2,0G    8,0M  2,0G   1% /dev/shm\r\n",
      "tmpfs              5,0M       0  5,0M   0% /run/lock\r\n",
      "tmpfs              2,0G       0  2,0G   0% /sys/fs/cgroup\r\n",
      "tmpfs              393M     12K  393M   1% /run/user/130\r\n",
      "tmpfs              393M    120K  393M   1% /run/user/0\r\n"
     ]
    }
   ],
   "source": [
    "!df -h"
   ]
  },
  {
   "cell_type": "code",
   "execution_count": null,
   "metadata": {},
   "outputs": [],
   "source": [
    "!ps aux"
   ]
  },
  {
   "cell_type": "code",
   "execution_count": null,
   "metadata": {},
   "outputs": [],
   "source": [
    "!top"
   ]
  },
  {
   "cell_type": "code",
   "execution_count": 1,
   "metadata": {},
   "outputs": [
    {
     "name": "stdout",
     "output_type": "stream",
     "text": [
      "root     :1           2019-04-23 21:14 (:1)\r\n"
     ]
    }
   ],
   "source": [
    "!who"
   ]
  },
  {
   "cell_type": "code",
   "execution_count": 2,
   "metadata": {},
   "outputs": [
    {
     "name": "stdout",
     "output_type": "stream",
     "text": [
      " 00:39:01 up  3:24,  1 user,  load average: 0,10, 0,16, 0,17\r\n"
     ]
    }
   ],
   "source": [
    "!uptime"
   ]
  },
  {
   "cell_type": "code",
   "execution_count": 3,
   "metadata": {},
   "outputs": [
    {
     "name": "stdout",
     "output_type": "stream",
     "text": [
      "\u001b[1mDisk /dev/sda: 80 GiB, 85899345920 bytes, 167772160 sectors\r\n",
      "\u001b[0mDisk model: VMware Virtual S\r\n",
      "Units: sectors of 1 * 512 = 512 bytes\r\n",
      "Sector size (logical/physical): 512 bytes / 512 bytes\r\n",
      "I/O size (minimum/optimal): 512 bytes / 512 bytes\r\n",
      "Disklabel type: dos\r\n",
      "Disk identifier: 0xa8f4a4fd\r\n",
      "\r\n",
      "\u001b[1mDevice\u001b[0m     \u001b[1mBoot\u001b[0m \u001b[1m    Start\u001b[0m \u001b[1m      End\u001b[0m \u001b[1m  Sectors\u001b[0m \u001b[1mSize\u001b[0m \u001b[1mId\u001b[0m \u001b[1mType\u001b[0m\r\n",
      "/dev/sda1  *         2048 150996991 150994944  72G 83 Linux\r\n",
      "/dev/sda2       150999038 167770111  16771074   8G  5 Extended\r\n",
      "/dev/sda5       150999040 167770111  16771072   8G 82 Linux swap / Solaris\r\n"
     ]
    }
   ],
   "source": [
    "!fdisk -l"
   ]
  },
  {
   "cell_type": "code",
   "execution_count": 4,
   "metadata": {},
   "outputs": [
    {
     "name": "stdout",
     "output_type": "stream",
     "text": [
      "              total        used        free      shared  buff/cache   available\r\n",
      "Mem:           3924        2749         320          56         854         882\r\n",
      "Swap:          8188          99        8089\r\n",
      "Total:        12113        2848        8410\r\n"
     ]
    }
   ],
   "source": [
    "!free -mt"
   ]
  },
  {
   "cell_type": "code",
   "execution_count": 1,
   "metadata": {},
   "outputs": [
    {
     "name": "stdout",
     "output_type": "stream",
     "text": [
      "PING svcrobotics.com (172.16.76.209) 56(84) bytes of data.\n",
      "64 bytes from svcrobotics.com (172.16.76.209): icmp_seq=1 ttl=64 time=1.45 ms\n",
      "64 bytes from svcrobotics.com (172.16.76.209): icmp_seq=2 ttl=64 time=1.40 ms\n",
      "64 bytes from svcrobotics.com (172.16.76.209): icmp_seq=3 ttl=64 time=1.46 ms\n",
      "\n",
      "--- svcrobotics.com ping statistics ---\n",
      "3 packets transmitted, 3 received, 0% packet loss, time 6ms\n",
      "rtt min/avg/max/mdev = 1.399/1.438/1.462/0.027 ms\n"
     ]
    }
   ],
   "source": [
    "!ping -c 3 svcrobotics.com"
   ]
  },
  {
   "cell_type": "code",
   "execution_count": 2,
   "metadata": {},
   "outputs": [
    {
     "name": "stdout",
     "output_type": "stream",
     "text": [
      "procs -----------memory---------- ---swap-- -----io---- -system-- ------cpu-----\r\n",
      " r  b   swpd   free   buff  cache   si   so    bi    bo   in   cs us sy id wa st\r\n",
      " 1  0 101632 289020  74680 798516    0    2    21    23  237  426  1  2 97  0  0\r\n"
     ]
    }
   ],
   "source": [
    "!vmstat"
   ]
  },
  {
   "cell_type": "code",
   "execution_count": null,
   "metadata": {},
   "outputs": [],
   "source": [
    "!netstat"
   ]
  },
  {
   "cell_type": "code",
   "execution_count": 4,
   "metadata": {},
   "outputs": [
    {
     "name": "stdout",
     "output_type": "stream",
     "text": [
      "traceroute to kali.org (192.124.249.10), 30 hops max, 60 byte packets\n",
      " 1  _gateway (172.16.76.1)  3.064 ms  3.082 ms  3.237 ms\n",
      " 2  172.16.0.1 (172.16.0.1)  5.954 ms  6.154 ms  6.291 ms\n",
      " 3  192.168.19.2 (192.168.19.2)  6.341 ms  6.441 ms  6.491 ms\n",
      " 4  * * *\n",
      " 5  * * *\n",
      " 6  * * *\n",
      " 7  * * *\n",
      " 8  * * *\n",
      " 9  * * *\n",
      "10  * * *\n",
      "11  * * *\n",
      "12  * * *\n",
      "13  * * *\n",
      "14  * * *\n",
      "15  * * *\n",
      "16  * * *\n",
      "17  * * *\n",
      "18  * * *\n",
      "19  * * *\n",
      "20  * * *\n",
      "21  * * *\n",
      "22  * * *\n",
      "23  * * *\n",
      "24  * * *\n",
      "25  * * *\n",
      "26  * * *\n",
      "27  * * *\n",
      "28  * * *\n",
      "29  * * *\n",
      "30  * * *\n"
     ]
    }
   ],
   "source": [
    "!traceroute kali.org"
   ]
  },
  {
   "cell_type": "code",
   "execution_count": null,
   "metadata": {},
   "outputs": [],
   "source": []
  }
 ],
 "metadata": {
  "kernelspec": {
   "display_name": "Python 3",
   "language": "python",
   "name": "python3"
  },
  "language_info": {
   "codemirror_mode": {
    "name": "ipython",
    "version": 3
   },
   "file_extension": ".py",
   "mimetype": "text/x-python",
   "name": "python",
   "nbconvert_exporter": "python",
   "pygments_lexer": "ipython3",
   "version": "3.7.3"
  }
 },
 "nbformat": 4,
 "nbformat_minor": 2
}
