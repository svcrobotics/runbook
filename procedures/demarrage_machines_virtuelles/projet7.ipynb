{
 "cells": [
  {
   "cell_type": "markdown",
   "metadata": {},
   "source": [
    "# Démarrer les machines virtuelles du projet 7\n",
    "\n",
    " - Démarrer GNS3 \n",
    " - Récuprer l'IP de svcrobotics.com avec un ifconfig\n",
    " - Modfifier /etc/hosts sur Kali\n",
    " - Sur Kali ouvrir Firefox à localhost/nagios\n",
    " - Sur Kali ouvrir le terminal et taper\n",
    " ```\n",
    " jupyter notebook --allow-root\n",
    " ```\n",
    " - Sur Kali ouvrir Firefox à localhost:8888/tree/Documents/runbook/\n",
    " - Sur Kali ouvrir le terminal et taper\n",
    " ```\n",
    " cd ~/Documents/runbook/\n",
    " git add .\n",
    " git commit -m \"Backup\"\n",
    " git push\n",
    " ```\n",
    " Username: svcrobotics\n",
    " Password: Victor@1972\n"
   ]
  }
 ],
 "metadata": {
  "kernelspec": {
   "display_name": "Python 3",
   "language": "python",
   "name": "python3"
  },
  "language_info": {
   "codemirror_mode": {
    "name": "ipython",
    "version": 3
   },
   "file_extension": ".py",
   "mimetype": "text/x-python",
   "name": "python",
   "nbconvert_exporter": "python",
   "pygments_lexer": "ipython3",
   "version": "3.7.3"
  }
 },
 "nbformat": 4,
 "nbformat_minor": 2
}
