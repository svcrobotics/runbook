{
 "cells": [
  {
   "cell_type": "markdown",
   "metadata": {},
   "source": [
    "# RSYSLOG\n",
    "\n",
    "## Côté Client (svcrobotics.com)\n",
    "\n",
    "```\n",
    "# /etc/rsyslog.conf configuration file for rsyslog\n",
    "#\n",
    "# For more information install rsyslog-doc and see\n",
    "# /usr/share/doc/rsyslog-doc/html/configuration/index.html\n",
    "\n",
    "\n",
    "#################\n",
    "#### MODULES ####\n",
    "#################\n",
    "\n",
    "module(load=\"imuxsock\") # provides support for local system logging\n",
    "module(load=\"imklog\")   # provides kernel logging support\n",
    "module(load=\"omrelp\") # provides support for sending RELP messages (over TCP)\n",
    "action(type=\"omrelp\" target=\"172.16.76.244\" port=\"2514\")\n",
    "module(load=\"immark\" interval=\"180\")  # provides --MARK-- message capability\n",
    "module(load=\"imfile\" PollingInterval=\"10\")\n",
    "input(type=\"imfile\" File=\"/var/log/apache2/access.log\" Tag=\"rsyslog\" StateFile=\"/var/spool/rsyslog/statefile1\" Severity=\"error\" Facility=\"local7\")\n",
    "\n",
    "# provides UDP syslog reception\n",
    "#module(load=\"imudp\")\n",
    "#input(type=\"imudp\" port=\"514\")\n",
    "\n",
    "# provides TCP syslog reception\n",
    "#module(load=\"imtcp\")\n",
    "#input(type=\"imtcp\" port=\"514\")\n",
    "\n",
    "```\n",
    "\n",
    "modifier target=\"172.16.X.X\"\n",
    "\n",
    "Redémarrer le serveur\n",
    "\n",
    "```\n",
    "systemctl restart rsyslog.service\n",
    "```"
   ]
  },
  {
   "cell_type": "markdown",
   "metadata": {},
   "source": [
    "## Côté Serveur (Kali)\n",
    "\n",
    "```\n",
    "# /etc/rsyslog.conf configuration file for rsyslog\n",
    "#\n",
    "# For more information install rsyslog-doc and see\n",
    "# /usr/share/doc/rsyslog-doc/html/configuration/index.html\n",
    "\n",
    "\n",
    "#################\n",
    "#### MODULES ####\n",
    "#################\n",
    "\n",
    "module(load=\"imuxsock\") # provides support for local system logging\n",
    "module(load=\"imklog\")   # provides kernel logging support\n",
    "#module(load=\"immark\")  # provides --MARK-- message capability\n",
    "module(load=\"imrelp\")\n",
    "input(type=\"imrelp\" address=\"172.16.76.244\" port=\"2514\" maxDataSize=\"10k\" keepAlive=\"on\")\n",
    "\n",
    "# provides UDP syslog reception\n",
    "#module(load=\"imudp\")\n",
    "#input(type=\"imudp\" port=\"514\")\n",
    "\n",
    "# provides TCP syslog reception\n",
    "#module(load=\"imtcp\")\n",
    "#input(type=\"imtcp\" port=\"514\")\n",
    "\n",
    "\n",
    "###########################\n",
    "#### GLOBAL DIRECTIVES ####\n",
    "###########################\n",
    "\n",
    "#\n",
    "# Use traditional timestamp format.\n",
    "# To enable high precision timestamps, comment out the following line.\n",
    "#\n",
    "$ActionFileDefaultTemplate RSYSLOG_TraditionalFileFormat\n",
    "\n",
    "#\n",
    "# Set the default permissions for all log files.\n",
    "#\n",
    "$FileOwner root\n",
    "$FileGroup adm\n",
    "$FileCreateMode 0640\n",
    "$DirCreateMode 0755\n",
    "$Umask 0022\n",
    "\n",
    "#\n",
    "# Where to place spool and state files\n",
    "#\n",
    "$WorkDirectory /var/spool/rsyslog\n",
    "\n",
    "#\n",
    "# Include all config files in /etc/rsyslog.d/\n",
    "#\n",
    "$IncludeConfig /etc/rsyslog.d/*.conf\n",
    "\n",
    "\n",
    "###############\n",
    "#### RULES ####\n",
    "###############\n",
    "\n",
    "#\n",
    "# First some standard log files.  Log by facility.\n",
    "#\n",
    "auth,authpriv.*\t\t\t/var/log/auth.log\n",
    "*.*;auth,authpriv.none\t\t-/var/log/syslog\n",
    "#cron.*\t\t\t\t/var/log/cron.log\n",
    "daemon.*\t\t\t-/var/log/daemon.log\n",
    "kern.*\t\t\t\t-/var/log/kern.log\n",
    "lpr.*\t\t\t\t-/var/log/lpr.log\n",
    "mail.*\t\t\t\t-/var/log/mail.log\n",
    "user.*\t\t\t\t-/var/log/user.log\n",
    "\n",
    "#\n",
    "# Logging for the mail system.  Split it up so that\n",
    "# it is easy to write scripts to parse these files.\n",
    "#\n",
    "mail.info\t\t\t-/var/log/mail.info\n",
    "mail.warn\t\t\t-/var/log/mail.warn\n",
    "mail.err\t\t\t/var/log/mail.err\n",
    "\n",
    "#\n",
    "# Some \"catch-all\" log files.\n",
    "#\n",
    "*.=debug;\\\n",
    "\tauth,authpriv.none;\\\n",
    "\tnews.none;mail.none\t-/var/log/debug\n",
    "*.=info;*.=notice;*.=warn;\\\n",
    "\tauth,authpriv.none;\\\n",
    "\tcron,daemon.none;\\\n",
    "\tmail,news.none\t\t-/var/log/messages\n",
    "\n",
    "#\n",
    "# Emergencies are sent to everybody logged in.\n",
    "#\n",
    "*.emerg\t\t\t\t:omusrmsg:*\n",
    "\n",
    "##################################\"\n",
    "$template syslog,\"/var/log/clients/%fromhost%/syslog.log\"\n",
    "*.* ?syslog\n",
    "\n",
    "```\n",
    "\n",
    "modifier address=\"172.16.X.X\"\n",
    "\n",
    "Redémarrer le serveur"
   ]
  },
  {
   "cell_type": "code",
   "execution_count": 3,
   "metadata": {},
   "outputs": [],
   "source": [
    "! systemctl restart rsyslog.service"
   ]
  },
  {
   "cell_type": "markdown",
   "metadata": {},
   "source": [
    "## Vérification"
   ]
  },
  {
   "cell_type": "code",
   "execution_count": 1,
   "metadata": {},
   "outputs": [
    {
     "name": "stdout",
     "output_type": "stream",
     "text": [
      "kali\n",
      "svcrobotics.com\n"
     ]
    }
   ],
   "source": [
    "%%bash\n",
    "\n",
    "ls /var/log/clients"
   ]
  },
  {
   "cell_type": "code",
   "execution_count": 3,
   "metadata": {},
   "outputs": [
    {
     "name": "stdout",
     "output_type": "stream",
     "text": [
      "Apr 24 00:29:17 svcrobotics systemd[1]: Started Session 420 of user root.\n",
      "Apr 24 00:29:17 svcrobotics sshd[9997]: Received disconnect from 172.16.76.244 port 49266:11: disconnected by user\n",
      "Apr 24 00:29:17 svcrobotics sshd[9997]: Disconnected from user root 172.16.76.244 port 49266\n",
      "Apr 24 00:29:17 svcrobotics sshd[9997]: pam_unix(sshd:session): session closed for user root\n",
      "Apr 24 00:29:17 svcrobotics systemd[1]: session-420.scope: Succeeded.\n",
      "Apr 24 00:29:17 svcrobotics systemd-logind[3968]: Session 420 logged out. Waiting for processes to exit.\n",
      "Apr 24 00:29:17 svcrobotics systemd-logind[3968]: Removed session 420.\n",
      "Apr 24 00:29:17 svcrobotics rsyslogd: -- MARK --\n",
      "Apr 24 00:29:55 svcrobotics rsyslog 172.16.76.244 - - [24/Apr/2019:00:29:55 +0200] \"GET / HTTP/1.1\" 200 4258 \"-\" \"Mozilla/5.0 (X11; Linux x86_64; rv:60.0) Gecko/20100101 Firefox/60.0\"\n",
      "Apr 24 00:29:58 svcrobotics rsyslog 172.16.76.244 - - [24/Apr/2019:00:29:58 +0200] \"GET /index.php/2019/04/01/hello/ HTTP/1.1\" 200 6583 \"http://svcrobotics.com/\" \"Mozilla/5.0 (X11; Linux x86_64; rv:60.0) Gecko/20100101 Firefox/60.0\"\n"
     ]
    }
   ],
   "source": [
    "%%bash\n",
    "\n",
    "cd /var/log/clients/svcrobotics.com/\n",
    "tail syslog.log"
   ]
  },
  {
   "cell_type": "code",
   "execution_count": null,
   "metadata": {},
   "outputs": [],
   "source": []
  }
 ],
 "metadata": {
  "kernelspec": {
   "display_name": "Python 3",
   "language": "python",
   "name": "python3"
  },
  "language_info": {
   "codemirror_mode": {
    "name": "ipython",
    "version": 3
   },
   "file_extension": ".py",
   "mimetype": "text/x-python",
   "name": "python",
   "nbconvert_exporter": "python",
   "pygments_lexer": "ipython3",
   "version": "3.7.3"
  }
 },
 "nbformat": 4,
 "nbformat_minor": 2
}
